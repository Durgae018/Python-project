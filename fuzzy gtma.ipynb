{
 "cells": [
  {
   "cell_type": "code",
   "execution_count": 11,
   "id": "96820a77",
   "metadata": {},
   "outputs": [
    {
     "name": "stdout",
     "output_type": "stream",
     "text": [
      "[[0.4500530350481553, 0.4758324649550451, 0.59822310030917, 0.6944954799687826, 0.5098771808999082], [0.5765975732327278, 0.7124696940341102, 0.794075120583658, 0.8533377910379814, 0.690770202020202], [0.594065371490318, 0.6893952683419822, 0.8175332869762291, 0.8327446182362123, 0.6595259412304867], [0.4731083835102713, 0.5246460158455037, 0.6960972959582247, 0.7244610106659729, 0.5241483011937558], [0.518586102831052, 0.6911259157245417, 0.7722376132713767, 0.8208759796110822, 0.6232610192837467], [0.6024344477535254, 0.7564833821196111, 0.8492118679092333, 0.8749832327978667, 0.6892688246097337], [0.5110459888685989, 0.38691096460682106, 0.6288660046675962, 0.5490095156412591, 0.3940036730945822], [0.44182896097653346, 0.4500651938272704, 0.5853767863734641, 0.5828330271201874, 0.4203799357208448], [0.5316826478062294, 0.5947823992375725, 0.7871197153820966, 0.7560275551183663, 0.6407954545454546], [0.5128072027024702, 0.6923191722216695, 0.7857136725250764, 0.832960051378772, 0.6643698347107438], [0.5356698770196024, 0.6426173881624767, 0.800647282529381, 0.7931120333636836, 0.6513475665748393]]\n"
     ]
    }
   ],
   "source": [
    "n=[[0.4500530350481553, 0.4758324649550451, 0.59822310030917, 0.6944954799687826, 0.5098771808999082], [0.5765975732327278, 0.7124696940341102, 0.794075120583658, 0.8533377910379814, 0.690770202020202], [0.594065371490318, 0.6893952683419822, 0.8175332869762291, 0.8327446182362123, 0.6595259412304867], [0.4731083835102713, 0.5246460158455037, 0.6960972959582247, 0.7244610106659729, 0.5241483011937558], [0.518586102831052, 0.6911259157245417, 0.7722376132713767, 0.8208759796110822, 0.6232610192837467], [0.6024344477535254, 0.7564833821196111, 0.8492118679092333, 0.8749832327978667, 0.6892688246097337], [0.5110459888685989, 0.38691096460682106, 0.6288660046675962, 0.5490095156412591, 0.3940036730945822], [0.44182896097653346, 0.4500651938272704, 0.5853767863734641, 0.5828330271201874, 0.4203799357208448], [0.5316826478062294, 0.5947823992375725, 0.7871197153820966, 0.7560275551183663, 0.6407954545454546], [0.5128072027024702, 0.6923191722216695, 0.7857136725250764, 0.832960051378772, 0.6643698347107438], [0.5356698770196024, 0.6426173881624767, 0.800647282529381, 0.7931120333636836, 0.6513475665748393]]\n",
    "print(n)"
   ]
  },
  {
   "cell_type": "code",
   "execution_count": 11,
   "id": "674aee65",
   "metadata": {},
   "outputs": [
    {
     "name": "stdout",
     "output_type": "stream",
     "text": [
      "Two attributes of equal importance:   1\n",
      "One attribute is slightly important over the other:   2\n",
      "One attribute is very important over the other:   3\n",
      "One attribute is most important over the other:   4\n",
      "One attribute is extremely important over the other:   5\n",
      "One attribute is exceptionally important over the other:   6\n",
      "How is space attribute related to Price: 1\n",
      "How is space attribute related to Power: 1\n",
      "How is space attribute related to Performance: 1\n",
      "How is space attribute related to Oil-Consumption: 1\n",
      "How is Price attribute related to Power: 1\n",
      "How is Price attribute related to Performance: 1\n",
      "How is Price attribute related to Oil-consumption: 1\n",
      "How is Power attribute related to Performance: 1\n",
      "How is Power attribute related to Oil-consumption: 1\n",
      "How is performance attribute related to Oil-Consumption: 1\n",
      "[[0.  0.5 0.5 0.5 0.5]\n",
      " [0.5 0.  0.5 0.5 0.5]\n",
      " [0.5 0.5 0.  0.5 0.5]\n",
      " [0.5 0.5 0.5 0.  0.5]\n",
      " [0.5 0.5 0.5 0.5 0. ]]\n"
     ]
    }
   ],
   "source": []
  },
  {
   "cell_type": "code",
   "execution_count": 7,
   "id": "336b7279",
   "metadata": {},
   "outputs": [
    {
     "name": "stdout",
     "output_type": "stream",
     "text": [
      "Two attributes of equal importance:   1\n",
      "One attribute is very important over the other:   2\n",
      "One attribute is most important over the other:   3\n",
      "One attribute is extremely important over the other:   4\n",
      "One attribute is exceptionally important over the other:   5\n",
      "How is space attribute related to Price: 1\n",
      "How is space attribute related to Power: 1\n",
      "How is space attribute related to Performance: 1\n",
      "How is space attribute related to Oil-Consumption: 1\n",
      "How is Price attribute related to Power: 1\n",
      "How is Price attribute related to Performance: 1\n",
      "How is Price attribute related to Oil-consumption: 1\n",
      "How is Power attribute related to Performance: 1\n",
      "How is Power attribute related to Oil-consumption: 1\n",
      "How is performance attribute related to Oil-Consumption: 1\n"
     ]
    }
   ],
   "source": [
    "  #-------------------USER INPUT----------------\n",
    "import numpy as np\n",
    "\n",
    "# Function to map user input to corresponding float values\n",
    "def map_input_to_value(input_value):\n",
    "    if input_value == 1:\n",
    "        return [0.5,0.5,0.55]\n",
    "    elif input_value == 2:\n",
    "        return [0.55,0.6,0.7]\n",
    "    elif input_value == 3:\n",
    "        return [0.65,0.75,0.85]\n",
    "    elif input_value == 4:\n",
    "        return [0.8,0.9,1]\n",
    "    elif input_value == 5:\n",
    "        return [0.95,1,1]\n",
    "    else:\n",
    "        return None  # Invalid input\n",
    "\n",
    "# Function to get user input\n",
    "def get_input(prompt):\n",
    "    while True:\n",
    "        try:\n",
    "            value = int(input(prompt))\n",
    "            if value < 1 or value > 6:\n",
    "                raise ValueError\n",
    "            return value\n",
    "        except ValueError:\n",
    "            print(\"Invalid input. Please enter a number between 1 and 6.\")\n",
    "\n",
    "# Prompt user for input\n",
    "print(\"Two attributes of equal importance:   1\")\n",
    "print(\"One attribute is very important over the other:   2\")\n",
    "print(\"One attribute is most important over the other:   3\")\n",
    "print(\"One attribute is extremely important over the other:   4\")\n",
    "print(\"One attribute is exceptionally important over the other:   5\")\n",
    "\n",
    "# Get user inputs for pairwise comparisons\n",
    "n1 = map_input_to_value(get_input(\"How is space attribute related to Price: \"))\n",
    "n2 = map_input_to_value(get_input(\"How is space attribute related to Power: \"))\n",
    "n3 = map_input_to_value(get_input(\"How is space attribute related to Performance: \"))\n",
    "n4 = map_input_to_value(get_input(\"How is space attribute related to Oil-Consumption: \"))\n",
    "n6 = map_input_to_value(get_input(\"How is Price attribute related to Power: \"))\n",
    "n7 = map_input_to_value(get_input(\"How is Price attribute related to Performance: \"))\n",
    "n8 = map_input_to_value(get_input(\"How is Price attribute related to Oil-consumption: \"))\n",
    "n11 = map_input_to_value(get_input(\"How is Power attribute related to Performance: \"))\n",
    "n12 = map_input_to_value(get_input(\"How is Power attribute related to Oil-consumption: \"))\n",
    "n16 = map_input_to_value(get_input(\"How is performance attribute related to Oil-Consumption: \"))\n",
    "\n",
    "n1=(n1[0]+n1[1]+n1[2])/3\n",
    "n2=(n2[0]+n2[1]+n3[2])/3\n",
    "n3=(n3[0]+n3[1]+n3[2])/3\n",
    "n4=(n4[0]+n4[1]+n4[2])/3\n",
    "n6=(n6[0]+n6[1]+n6[2])/3\n",
    "n7=(n7[0]+n7[1]+n7[2])/3\n",
    "n8=(n8[0]+n8[1]+n8[2])/3\n",
    "n11=(n11[0]+n11[1]+n11[2])/3\n",
    "n12=(n12[0]+n12[1]+n12[2])/3\n",
    "n16=(n16[0]+n16[1]+n16[2])/3\n",
    "# Calculate the complement values\n",
    "n5 = 1 - n1\n",
    "n9 = 1 - n2\n",
    "n10 = 1 - n6\n",
    "n13 = 1 - n3\n",
    "n14 = 1 - n7\n",
    "n15 = 1 - n11\n",
    "n17 = 1 - n4\n",
    "n18 = 1 - n8\n",
    "n19 = 1 - n12\n",
    "n20 = 1 - n16"
   ]
  },
  {
   "cell_type": "code",
   "execution_count": 6,
   "id": "54b025df",
   "metadata": {},
   "outputs": [
    {
     "name": "stdout",
     "output_type": "stream",
     "text": [
      "0.5166666666666667\n"
     ]
    }
   ],
   "source": [
    "\n",
    "print(n1)"
   ]
  },
  {
   "cell_type": "code",
   "execution_count": 9,
   "id": "c6c78df8",
   "metadata": {},
   "outputs": [
    {
     "name": "stdout",
     "output_type": "stream",
     "text": [
      "[0.5166666666666667, 0.5166666666666667, 0.5166666666666667, 0.5166666666666667, 0.4833333333333333, 0.5166666666666667, 0.5166666666666667, 0.5166666666666667, 0.4833333333333333, 0.4833333333333333, 0.5166666666666667, 0.5166666666666667, 0.4833333333333333, 0.4833333333333333, 0.4833333333333333, 0.5166666666666667, 0.4833333333333333, 0.4833333333333333, 0.4833333333333333, 0.4833333333333333]\n",
      "[[0.         0.51666667 0.51666667 0.51666667 0.51666667]\n",
      " [0.48333333 0.         0.51666667 0.51666667 0.51666667]\n",
      " [0.48333333 0.48333333 0.         0.51666667 0.51666667]\n",
      " [0.48333333 0.48333333 0.48333333 0.         0.51666667]\n",
      " [0.48333333 0.48333333 0.48333333 0.48333333 0.        ]]\n"
     ]
    }
   ],
   "source": [
    "# Create an array of all the values\n",
    "n_arr = [n1, n2, n3, n4, n5, n6, n7, n8, n9, n10, n11, n12, n13, n14, n15, n16, n17, n18, n19, n20]\n",
    "print(n_arr)\n",
    "# Construct the upper triangular matrix\n",
    "matrix_size = 5\n",
    "matrix = np.empty((matrix_size, matrix_size), dtype=float)\n",
    "\n",
    "# Fill the non-diagonal elements into the matrix\n",
    "count = 0\n",
    "# Fill the diagonal elements with 0\n",
    "np.fill_diagonal(matrix, 0)\n",
    "for i in range(matrix_size):\n",
    "    for j in range(matrix_size):\n",
    "        if i != j:\n",
    "            matrix[i, j] = n_arr[count]\n",
    "            count += 1\n",
    "print(matrix)"
   ]
  },
  {
   "cell_type": "code",
   "execution_count": null,
   "id": "d674c75b",
   "metadata": {},
   "outputs": [],
   "source": []
  },
  {
   "cell_type": "code",
   "execution_count": 12,
   "id": "ae10504f",
   "metadata": {},
   "outputs": [
    {
     "name": "stdout",
     "output_type": "stream",
     "text": [
      "[[0.53566988 0.51666667 0.51666667 0.51666667 0.51666667]\n",
      " [0.48333333 0.64261739 0.51666667 0.51666667 0.51666667]\n",
      " [0.48333333 0.48333333 0.80064728 0.51666667 0.51666667]\n",
      " [0.48333333 0.48333333 0.48333333 0.79311203 0.51666667]\n",
      " [0.48333333 0.48333333 0.48333333 0.48333333 0.65134757]]\n",
      "[4.086079890188474, 5.851196244149341, 5.773621826525702, 4.446233384489972, 5.391469674923643, 6.1970990529600725, 3.6830408481307573, 3.7049886010396467, 5.153820734864167, 5.5246056375200805, 5.389893468705059]\n"
     ]
    }
   ],
   "source": [
    "#---------------------------------PERMANENT FUNCTION CALCULATION----------------------------------\n",
    "import itertools\n",
    "import numpy as np\n",
    "def mat_in(n_arr,p,x):\n",
    "    c=0\n",
    "    for i in range(matrix_size):\n",
    "        for j in range(matrix_size):\n",
    "            if i==j:\n",
    "                matrix[i, j] = p[x][c]\n",
    "                c += 1\n",
    "    return matrix\n",
    "def permanent_function(mat):\n",
    "    A = mat\n",
    "# Generate all permutations of the indices (1, 2, 3, 4, 5)\n",
    "    permutations = itertools.permutations(range(5))\n",
    "# Calculate the permanent\n",
    "    permanent_value = 0\n",
    "    for perm in permutations:\n",
    "        product = 1\n",
    "        for i in range(5):\n",
    "            product *= A[i, perm[i]]\n",
    "        permanent_value += product\n",
    "    return permanent_value\n",
    "r=[]\n",
    "\n",
    "for i in range(0,11):\n",
    "    mat=mat_in(n_arr,n,i)\n",
    "    per1=permanent_function(mat)\n",
    "    r.append(per1)\n",
    "print(mat)\n",
    "print(r)"
   ]
  },
  {
   "cell_type": "code",
   "execution_count": 13,
   "id": "0ace9d8b",
   "metadata": {},
   "outputs": [
    {
     "name": "stdout",
     "output_type": "stream",
     "text": [
      "CARS AFTER CALCULATING THE PERMANENT FUNCTION \n",
      "0 Honda: 4.086079890188474\n",
      "1 Hyundai: 5.851196244149341\n",
      "2 Isuzu: 5.773621826525702\n",
      "3 Kia: 4.446233384489972\n",
      "4 Land-rover: 5.391469674923643\n",
      "5 Nexon: 6.1970990529600725\n",
      "6 Porsche: 3.6830408481307573\n",
      "7 Swift: 3.7049886010396467\n",
      "8 Tata: 5.153820734864167\n",
      "9 Thar: 5.5246056375200805\n",
      "10 Volvo: 5.389893468705059\n",
      "-------CARS RANKED USING GTMA------\n",
      "1 Nexon: 6.1970990529600725\n",
      "2 Hyundai: 5.851196244149341\n",
      "3 Isuzu: 5.773621826525702\n",
      "4 Thar: 5.5246056375200805\n",
      "5 Land-rover: 5.391469674923643\n",
      "6 Volvo: 5.389893468705059\n",
      "7 Tata: 5.153820734864167\n",
      "8 Kia: 4.446233384489972\n",
      "9 Honda: 4.086079890188474\n",
      "10 Swift: 3.7049886010396467\n",
      "11 Porsche: 3.6830408481307573\n"
     ]
    }
   ],
   "source": [
    "#----------------RANKING THE CARS BASED ON THE PERMANENT FUNCTION CALCULATED-----------------\n",
    "res={}\n",
    "my_dict={}\n",
    "keys=['Honda','Hyundai','Isuzu','Kia','Land-rover','Nexon','Porsche','Swift','Tata','Thar','Volvo']\n",
    "i=0\n",
    "for k in keys:\n",
    "    my_dict[k]=r[i]\n",
    "    i=i+1\n",
    "i=0\n",
    "print(\"CARS AFTER CALCULATING THE PERMANENT FUNCTION \")\n",
    "for key, value in my_dict.items():\n",
    "    print(f\"{i} {key}: {value}\")\n",
    "#     print(value[0],' ',value[1],' ',value[2])\n",
    "    i=i+1\n",
    "\n",
    "print('-------CARS RANKED USING GTMA------')\n",
    "i=1\n",
    "sorted_dict = dict(sorted(my_dict.items(), key=lambda item: item[1], reverse=True))\n",
    "for key, value in sorted_dict.items():\n",
    "    print(f\"{i} {key}: {value}\")\n",
    "    i=i+1\n"
   ]
  },
  {
   "cell_type": "code",
   "execution_count": null,
   "id": "fd8bba87",
   "metadata": {},
   "outputs": [],
   "source": []
  },
  {
   "cell_type": "code",
   "execution_count": null,
   "id": "1b51271a",
   "metadata": {},
   "outputs": [],
   "source": []
  }
 ],
 "metadata": {
  "kernelspec": {
   "display_name": "Python 3 (ipykernel)",
   "language": "python",
   "name": "python3"
  },
  "language_info": {
   "codemirror_mode": {
    "name": "ipython",
    "version": 3
   },
   "file_extension": ".py",
   "mimetype": "text/x-python",
   "name": "python",
   "nbconvert_exporter": "python",
   "pygments_lexer": "ipython3",
   "version": "3.11.5"
  }
 },
 "nbformat": 4,
 "nbformat_minor": 5
}
