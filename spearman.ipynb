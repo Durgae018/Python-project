{
 "cells": [
  {
   "cell_type": "code",
   "execution_count": null,
   "id": "010bec8f",
   "metadata": {},
   "outputs": [],
   "source": []
  },
  {
   "cell_type": "code",
   "execution_count": 3,
   "id": "a1c5c6e5",
   "metadata": {},
   "outputs": [
    {
     "name": "stdout",
     "output_type": "stream",
     "text": [
      "Spearman's correlation coefficient between GTMA and TOPSIS: 0.9818181818181818\n",
      "Spearman's correlation coefficient between GTMA and IVIFS TOPSIS: 0.990909090909091\n",
      "Spearman's correlation coefficient between GTMA and TODIM: 0.881818181818182\n"
     ]
    }
   ],
   "source": [
    "from scipy.stats import spearmanr\n",
    "\n",
    "# Ranking orders\n",
    "gtma_rank = [9,2,3,8,5,1,10,11,7,4,6]\n",
    "topsis_rank = [9,2,3,8,5,1,11,10,6,4,7]\n",
    "ivifs_topsis_rank = [9,2,3,8,5,1,11,10,7,4,6]\n",
    "todim_rank = [10,3,5,9,2,1,11,8,7,4,6]\n",
    "\n",
    "# Calculate Spearman's correlation coefficient\n",
    "corr_gtma_topsis, _ = spearmanr(gtma_rank, topsis_rank)\n",
    "corr_gtma_ivifs_topsis, _ = spearmanr(gtma_rank, ivifs_topsis_rank)\n",
    "corr_gtma_todim, _ = spearmanr(gtma_rank, todim_rank)\n",
    "\n",
    "print(\"Spearman's correlation coefficient between GTMA and TOPSIS:\", corr_gtma_topsis)\n",
    "print(\"Spearman's correlation coefficient between GTMA and IVIFS TOPSIS:\", corr_gtma_ivifs_topsis)\n",
    "print(\"Spearman's correlation coefficient between GTMA and TODIM:\", corr_gtma_todim)\n"
   ]
  },
  {
   "cell_type": "code",
   "execution_count": 4,
   "id": "52ac3f49",
   "metadata": {},
   "outputs": [
    {
     "name": "stdout",
     "output_type": "stream",
     "text": [
      "Average overlap between GTMA and TOPSIS: 4.7272727272727275\n",
      "Average overlap between GTMA and IVIFS TOPSIS: 4.909090909090909\n",
      "Average overlap between GTMA and TODIM: 4.090909090909091\n"
     ]
    }
   ],
   "source": [
    "def average_overlap(rank1, rank2):\n",
    "    total_overlap = 0\n",
    "    for i in range(len(rank1) - 1):\n",
    "        overlap = len(set(rank1[:i+1]) & set(rank2[:i+1]))\n",
    "        total_overlap += overlap\n",
    "    return total_overlap / len(rank1)\n",
    "\n",
    "# Ranking orders\n",
    "gtma_rank = [9,2,3,8,5,1,10,11,7,4,6]\n",
    "topsis_rank = [9,2,3,8,5,1,11,10,6,4,7]\n",
    "ivifs_topsis_rank = [9,2,3,8,5,1,11,10,7,4,6]\n",
    "todim_rank = [10,3,5,9,2,1,11,8,7,4,6]\n",
    "\n",
    "# Calculate average overlap between ranking orders\n",
    "avg_overlap_gtma_topsis = average_overlap(gtma_rank, topsis_rank)\n",
    "avg_overlap_gtma_ivifs_topsis = average_overlap(gtma_rank, ivifs_topsis_rank)\n",
    "avg_overlap_gtma_todim = average_overlap(gtma_rank, todim_rank)\n",
    "\n",
    "print(\"Average overlap between GTMA and TOPSIS:\", avg_overlap_gtma_topsis)\n",
    "print(\"Average overlap between GTMA and IVIFS TOPSIS:\", avg_overlap_gtma_ivifs_topsis)\n",
    "print(\"Average overlap between GTMA and TODIM:\", avg_overlap_gtma_todim)\n"
   ]
  },
  {
   "cell_type": "code",
   "execution_count": 5,
   "id": "bad63218",
   "metadata": {},
   "outputs": [
    {
     "name": "stdout",
     "output_type": "stream",
     "text": [
      "Discounted Cumulative Gain (DCG) for GTMA: 7.45\n",
      "Discounted Cumulative Gain (DCG) for TOPSIS: 7.616666666666667\n",
      "Discounted Cumulative Gain (DCG) for IVIFS TOPSIS: 7.616666666666667\n",
      "Discounted Cumulative Gain (DCG) for TODIM: 7.25\n"
     ]
    }
   ],
   "source": [
    "def discounted_cumulative_gain(rank):\n",
    "    dcg = rank[0]\n",
    "    for i in range(1, len(rank)):\n",
    "        dcg += rank[i] / (i + 1)\n",
    "    return dcg\n",
    "\n",
    "# Ranking orders\n",
    "gtma_rank = [4, 2, 3, 5, 1]\n",
    "topsis_rank = [4, 3, 2, 5, 1]\n",
    "ivifs_topsis_rank = [4, 3, 2, 5, 1]\n",
    "todim_rank = [4, 2, 3, 1, 5]\n",
    "\n",
    "# Calculate Discounted Cumulative Gain (DCG) for each technique\n",
    "dcg_gtma = discounted_cumulative_gain(gtma_rank)\n",
    "dcg_topsis = discounted_cumulative_gain(topsis_rank)\n",
    "dcg_ivifs_topsis = discounted_cumulative_gain(ivifs_topsis_rank)\n",
    "dcg_todim = discounted_cumulative_gain(todim_rank)\n",
    "\n",
    "print(\"Discounted Cumulative Gain (DCG) for GTMA:\", dcg_gtma)\n",
    "print(\"Discounted Cumulative Gain (DCG) for TOPSIS:\", dcg_topsis)\n",
    "print(\"Discounted Cumulative Gain (DCG) for IVIFS TOPSIS:\", dcg_ivifs_topsis)\n",
    "print(\"Discounted Cumulative Gain (DCG) for TODIM:\", dcg_todim)\n"
   ]
  },
  {
   "cell_type": "code",
   "execution_count": null,
   "id": "d2a3c5e4",
   "metadata": {},
   "outputs": [],
   "source": []
  }
 ],
 "metadata": {
  "kernelspec": {
   "display_name": "Python 3 (ipykernel)",
   "language": "python",
   "name": "python3"
  },
  "language_info": {
   "codemirror_mode": {
    "name": "ipython",
    "version": 3
   },
   "file_extension": ".py",
   "mimetype": "text/x-python",
   "name": "python",
   "nbconvert_exporter": "python",
   "pygments_lexer": "ipython3",
   "version": "3.11.5"
  }
 },
 "nbformat": 4,
 "nbformat_minor": 5
}
